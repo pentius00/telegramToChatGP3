{
 "cells": [
  {
   "cell_type": "code",
   "execution_count": 22,
   "id": "97f8d7a4-5066-4df4-9915-bc123ec55352",
   "metadata": {},
   "outputs": [],
   "source": [
    "import requests\n",
    "import openai\n",
    "from dotenv import load_dotenv\n",
    "load_dotenv(\"key.env\")\n",
    "import os\n",
    "import telegram\n",
    "import telegram.ext\n",
    "\n",
    "                                                        \n"
   ]
  },
  {
   "cell_type": "code",
   "execution_count": null,
   "id": "96d14b39-569a-43a1-a3ec-63a13addbb5d",
   "metadata": {},
   "outputs": [],
   "source": []
  },
  {
   "cell_type": "code",
   "execution_count": 23,
   "id": "8d8bf82d-25e5-4639-8c82-3dcfefd7ebc2",
   "metadata": {},
   "outputs": [],
   "source": [
    "import asyncio\n",
    "import telegram\n",
    "\n",
    "\n",
    "async def main():\n",
    "    bot = telegram.Bot(telegram_bot_token)\n",
    "    async with bot:\n",
    "        print((await bot.get_updates())[0])\n",
    "        \n",
    "async def main():\n",
    "    bot = telegram.Bot(\"TOKEN\")\n",
    "    async with bot:\n",
    "        await bot.send_message(text='Hi John!', chat_id=1234567890)"
   ]
  },
  {
   "cell_type": "code",
   "execution_count": null,
   "id": "d7d6ffa0-d399-416f-818a-e8b402fe44e1",
   "metadata": {
    "tags": []
   },
   "outputs": [],
   "source": []
  },
  {
   "cell_type": "code",
   "execution_count": 2,
   "id": "89e97c88-f7d3-47a8-a5f7-52cb37bb15af",
   "metadata": {},
   "outputs": [],
   "source": [
    "import requests\n",
    "import openai\n",
    "from dotenv import load_dotenv\n",
    "load_dotenv(\"key.env\")\n",
    "import os\n",
    "import telegram\n",
    "import telegram.ext\n",
    "#!pip install python-telegram-bot --upgrade\n",
    "                      # Step 1: Connect to OpenAI API\n",
    "\n",
    "openai.api_key = os.getenv(\"OPENAI_API_KEY\")\n",
    "\n",
    "# Step 2: Connect to Telegram Bot API\n",
    "telegram_bot_token = os.getenv(\"telegram_bot_token\")\n",
    "\n",
    "# Step 3: Define a function to get the response from OpenAI\n",
    "def generate_response(prompt):\n",
    "    response = openai.Completion.create(\n",
    "        engine=\"text-davinci-002\",\n",
    "        prompt=prompt,\n",
    "        max_tokens=1024,\n",
    "        n=1,\n",
    "        stop=None,\n",
    "        temperature=0.5,\n",
    "    )\n",
    "    message = response[\"choices\"][0][\"text\"].strip()\n",
    "    return message\n",
    "    print(message)\n",
    "\n",
    "# Step 4: Implement the logic to communicate with the bot\n",
    "def handle_message(update, context):\n",
    "    user_message = update.message.text\n",
    "    response_message = generate_response(user_message)\n",
    "    context.bot.send_message(chat_id=update.message.chat_id, text=response_message)\n",
    "\n"
   ]
  },
  {
   "cell_type": "raw",
   "id": "631fd28b-b6e0-4b16-89a2-97b6c5aa7a6c",
   "metadata": {},
   "source": [
    "generate_response(\"hola\")"
   ]
  },
  {
   "cell_type": "code",
   "execution_count": 1,
   "id": "ce9ef8cf-0396-4849-b167-0196dff380b1",
   "metadata": {},
   "outputs": [
    {
     "ename": "ModuleNotFoundError",
     "evalue": "No module named 'tgrambot'",
     "output_type": "error",
     "traceback": [
      "\u001b[1;31m---------------------------------------------------------------------------\u001b[0m",
      "\u001b[1;31mModuleNotFoundError\u001b[0m                       Traceback (most recent call last)",
      "\u001b[1;32m~\\AppData\\Local\\Temp/ipykernel_2604/3022474700.py\u001b[0m in \u001b[0;36m<module>\u001b[1;34m\u001b[0m\n\u001b[0;32m      1\u001b[0m \u001b[1;32mimport\u001b[0m \u001b[0masyncio\u001b[0m\u001b[1;33m\u001b[0m\u001b[1;33m\u001b[0m\u001b[0m\n\u001b[0;32m      2\u001b[0m \u001b[1;33m\u001b[0m\u001b[0m\n\u001b[1;32m----> 3\u001b[1;33m \u001b[1;32mfrom\u001b[0m \u001b[0mtgrambot\u001b[0m \u001b[1;32mimport\u001b[0m \u001b[0mBot\u001b[0m\u001b[1;33m\u001b[0m\u001b[1;33m\u001b[0m\u001b[0m\n\u001b[0m\u001b[0;32m      4\u001b[0m \u001b[1;32mfrom\u001b[0m \u001b[0mtgrambot\u001b[0m\u001b[1;33m.\u001b[0m\u001b[0mfilters\u001b[0m \u001b[1;32mimport\u001b[0m \u001b[0mFilters\u001b[0m\u001b[1;33m\u001b[0m\u001b[1;33m\u001b[0m\u001b[0m\n\u001b[0;32m      5\u001b[0m \u001b[1;32mfrom\u001b[0m \u001b[0mtgrambot\u001b[0m\u001b[1;33m.\u001b[0m\u001b[0mtypes\u001b[0m \u001b[1;32mimport\u001b[0m \u001b[0mMessage\u001b[0m\u001b[1;33m\u001b[0m\u001b[1;33m\u001b[0m\u001b[0m\n",
      "\u001b[1;31mModuleNotFoundError\u001b[0m: No module named 'tgrambot'"
     ]
    }
   ],
   "source": [
    "\n",
    "    loop.run_until_complete(main())"
   ]
  },
  {
   "cell_type": "code",
   "execution_count": null,
   "id": "2d01721f-ea64-441e-996f-e3471c5dcdd6",
   "metadata": {},
   "outputs": [],
   "source": []
  },
  {
   "cell_type": "code",
   "execution_count": 25,
   "id": "18bb128c-9d3a-409c-93ea-894d657b7905",
   "metadata": {},
   "outputs": [
    {
     "ename": "AttributeError",
     "evalue": "module 'telegram.ext' has no attribute 'Filters'",
     "output_type": "error",
     "traceback": [
      "\u001b[1;31m---------------------------------------------------------------------------\u001b[0m",
      "\u001b[1;31mAttributeError\u001b[0m                            Traceback (most recent call last)",
      "\u001b[1;32m~\\AppData\\Local\\Temp/ipykernel_5096/170441992.py\u001b[0m in \u001b[0;36m<module>\u001b[1;34m\u001b[0m\n\u001b[0;32m     36\u001b[0m \u001b[1;31m# Set up a webhook to receive updates from Telegram\u001b[0m\u001b[1;33m\u001b[0m\u001b[1;33m\u001b[0m\u001b[1;33m\u001b[0m\u001b[0m\n\u001b[0;32m     37\u001b[0m \u001b[0mupdater\u001b[0m \u001b[1;33m=\u001b[0m \u001b[0mtelegram\u001b[0m\u001b[1;33m.\u001b[0m\u001b[0mext\u001b[0m\u001b[1;33m.\u001b[0m\u001b[0mUpdater\u001b[0m\u001b[1;33m(\u001b[0m\u001b[0mbot\u001b[0m\u001b[1;33m=\u001b[0m\u001b[0mbot\u001b[0m\u001b[1;33m,\u001b[0m \u001b[0mupdate_queue\u001b[0m\u001b[1;33m=\u001b[0m\u001b[1;36m0\u001b[0m\u001b[1;33m)\u001b[0m\u001b[1;33m\u001b[0m\u001b[1;33m\u001b[0m\u001b[0m\n\u001b[1;32m---> 38\u001b[1;33m \u001b[0mhandler\u001b[0m \u001b[1;33m=\u001b[0m \u001b[0mtelegram\u001b[0m\u001b[1;33m.\u001b[0m\u001b[0mext\u001b[0m\u001b[1;33m.\u001b[0m\u001b[0mMessageHandler\u001b[0m\u001b[1;33m(\u001b[0m\u001b[0mtelegram\u001b[0m\u001b[1;33m.\u001b[0m\u001b[0mext\u001b[0m\u001b[1;33m.\u001b[0m\u001b[0mFilters\u001b[0m\u001b[1;33m.\u001b[0m\u001b[0mtext\u001b[0m\u001b[1;33m,\u001b[0m \u001b[0mhandle_message\u001b[0m\u001b[1;33m)\u001b[0m\u001b[1;33m\u001b[0m\u001b[1;33m\u001b[0m\u001b[0m\n\u001b[0m\u001b[0;32m     39\u001b[0m \u001b[0mupdater\u001b[0m\u001b[1;33m.\u001b[0m\u001b[0mdispatcher\u001b[0m\u001b[1;33m.\u001b[0m\u001b[0madd_handler\u001b[0m\u001b[1;33m(\u001b[0m\u001b[0mhandler\u001b[0m\u001b[1;33m)\u001b[0m\u001b[1;33m\u001b[0m\u001b[1;33m\u001b[0m\u001b[0m\n\u001b[0;32m     40\u001b[0m \u001b[0mupdater\u001b[0m\u001b[1;33m.\u001b[0m\u001b[0mstart_polling\u001b[0m\u001b[1;33m(\u001b[0m\u001b[1;33m)\u001b[0m\u001b[1;33m\u001b[0m\u001b[1;33m\u001b[0m\u001b[0m\n",
      "\u001b[1;31mAttributeError\u001b[0m: module 'telegram.ext' has no attribute 'Filters'"
     ]
    }
   ],
   "source": [
    "import requests\n",
    "import openai\n",
    "import telegram\n",
    "from dotenv import load_dotenv\n",
    "import os\n",
    "\n",
    "# Load API keys from .env file\n",
    "load_dotenv(\"key.env\")\n",
    "\n",
    "# Connect to OpenAI API\n",
    "openai.api_key = os.getenv(\"OPENAI_API_KEY\")\n",
    "\n",
    "# Connect to Telegram Bot API\n",
    "telegram_bot_token = os.getenv(\"telegram_bot_token\")\n",
    "bot = telegram.Bot(token=telegram_bot_token)\n",
    "\n",
    "# Define a function to get the response from OpenAI\n",
    "def generate_response(prompt):\n",
    "    response = openai.Completion.create(\n",
    "        engine=\"text-davinci-002\",\n",
    "        prompt=prompt,\n",
    "        max_tokens=1024,\n",
    "        n=1,\n",
    "        stop=None,\n",
    "        temperature=0.5,\n",
    "    )\n",
    "    message = response[\"choices\"][0][\"text\"].strip()\n",
    "    return message\n",
    "\n",
    "# Implement the logic to communicate with the bot\n",
    "def handle_message(update, context):\n",
    "    user_message = update.message.text\n",
    "    response_message = generate_response(user_message)\n",
    "    context.bot.send_message(chat_id=update.message.chat_id, text=response_message)\n",
    "\n",
    "# Set up a webhook to receive updates from Telegram\n",
    "updater = telegram.ext.Updater(bot=bot, update_queue=0)\n",
    "handler = telegram.ext.MessageHandler(telegram.ext.Filters.text, handle_message)\n",
    "updater.dispatcher.add_handler(handler)\n",
    "updater.start_polling()"
   ]
  },
  {
   "cell_type": "code",
   "execution_count": null,
   "id": "40cbaab9-ef97-4a42-953e-67e37010f5f7",
   "metadata": {},
   "outputs": [],
   "source": []
  },
  {
   "cell_type": "code",
   "execution_count": null,
   "id": "e10b3cff-7a9b-403a-9339-3f8db74a78b0",
   "metadata": {},
   "outputs": [],
   "source": []
  },
  {
   "cell_type": "code",
   "execution_count": null,
   "id": "a5e0f9e7-3011-4f24-b950-3c6622299af1",
   "metadata": {},
   "outputs": [],
   "source": []
  }
 ],
 "metadata": {
  "kernelspec": {
   "display_name": "Python 3 (ipykernel)",
   "language": "python",
   "name": "python3"
  },
  "language_info": {
   "codemirror_mode": {
    "name": "ipython",
    "version": 3
   },
   "file_extension": ".py",
   "mimetype": "text/x-python",
   "name": "python",
   "nbconvert_exporter": "python",
   "pygments_lexer": "ipython3",
   "version": "3.7.11"
  }
 },
 "nbformat": 4,
 "nbformat_minor": 5
}
